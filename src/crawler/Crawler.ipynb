{
 "cells": [
  {
   "cell_type": "code",
   "execution_count": 1,
   "metadata": {
    "collapsed": true
   },
   "outputs": [],
   "source": [
    "import pandas as pd\n",
    "import requests as rq\n",
    "import os\n",
    "import numpy as np\n",
    "from bs4 import BeautifulSoup"
   ]
  },
  {
   "cell_type": "markdown",
   "metadata": {},
   "source": [
    "O projeto usará como base os seguintes sites:\n",
    "MLSSoccer - https://www.mlssoccer.com\n",
    "Eurosport - https://www.eurosport.com\n",
    "Soccerway - https://us.soccerway.com\n",
    "FCTable - https://www.fctables.com\n",
    "WhoScored - https://www.whoscored.com\n",
    "FIFA - https://www.fifa.com\n",
    "TopDrawerSoccer - https://www.topdrawersoccer.com\n",
    "FoxSports - https://www.foxsports.com"
   ]
  },
  {
   "cell_type": "code",
   "execution_count": 3,
   "metadata": {
    "collapsed": true
   },
   "outputs": [],
   "source": [
    "sites = [('MLSSoccer','https://www.mlssoccer.com'),\n",
    "('Eurosport','https://www.eurosport.com'),\n",
    "('Soccerway','https://us.soccerway.com'),\n",
    "('FCTable','https://www.fctables.com'),\n",
    "('WhoScored','https://www.whoscored.com'),\n",
    "('FIFA','https://www.fifa.com'),\n",
    "('TopDrawerSoccer','https://www.topdrawersoccer.com'),\n",
    "('FoxSports','https://www.foxsports.com')]"
   ]
  },
  {
   "cell_type": "code",
   "execution_count": null,
   "metadata": {
    "collapsed": true
   },
   "outputs": [],
   "source": []
  }
 ],
 "metadata": {
  "kernelspec": {
   "display_name": "Python 3",
   "language": "python",
   "name": "python3"
  },
  "language_info": {
   "codemirror_mode": {
    "name": "ipython",
    "version": 3
   },
   "file_extension": ".py",
   "mimetype": "text/x-python",
   "name": "python",
   "nbconvert_exporter": "python",
   "pygments_lexer": "ipython3",
   "version": "3.6.8"
  }
 },
 "nbformat": 4,
 "nbformat_minor": 2
}
