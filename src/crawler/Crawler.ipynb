{
 "cells": [
  {
   "cell_type": "code",
   "execution_count": 1,
   "metadata": {
    "collapsed": true
   },
   "outputs": [],
   "source": [
    "import pandas as pd\n",
    "import requests as rq\n",
    "import os\n",
    "import numpy as np\n",
    "from bs4 import BeautifulSoup"
   ]
  },
  {
   "cell_type": "markdown",
   "metadata": {},
   "source": [
    "O projeto usará como base os seguintes sites:\n",
    "MLSSoccer - https://www.mlssoccer.com\n",
    "Eurosport - https://www.eurosport.com\n",
    "Soccerway - https://us.soccerway.com\n",
    "FCTable - https://www.fctables.com\n",
    "WhoScored - https://www.whoscored.com\n",
    "FIFA - https://www.fifa.com\n",
    "TopDrawerSoccer - https://www.topdrawersoccer.com\n",
    "FoxSports - https://www.foxsports.com"
   ]
  },
  {
   "cell_type": "code",
   "execution_count": 2,
   "metadata": {
    "collapsed": true
   },
   "outputs": [],
   "source": [
    "sites = [('MLSSoccer','https://www.mlssoccer.com'),\n",
    "('Eurosport','https://www.eurosport.com'),\n",
    "('Soccerway','https://us.soccerway.com'),\n",
    "('FCTable','https://www.fctables.com'),\n",
    "('WhoScored','https://www.whoscored.com'),\n",
    "('FIFA','https://www.fifa.com'),\n",
    "('TopDrawerSoccer','https://www.topdrawersoccer.com'),\n",
    "('FoxSports','https://www.foxsports.com')]"
   ]
  },
  {
   "cell_type": "code",
   "execution_count": 6,
   "metadata": {},
   "outputs": [],
   "source": [
    "#Robots.txt de cada site\n",
    "for i in range(len(sites)):\n",
    "    urlHomePage = sites[i][1] + '/robots.txt'\n",
    "    req = rq.get(urlHomePage)\n",
    "    directoryFile = 'robots/' + sites[i][0] + \".txt\"\n",
    "    with open(directoryFile, 'wb') as handle:\n",
    "        for block in req.iter_content():\n",
    "            handle.write(block)"
   ]
  },
  {
   "cell_type": "code",
   "execution_count": 13,
   "metadata": {
    "collapsed": true
   },
   "outputs": [],
   "source": [
    "#Pagina inicial de cada site\n",
    "for i in range(len(sites)):\n",
    "    urlHomePage = sites[i][1]\n",
    "    req = rq.get(urlHomePage)\n",
    "    directoryFile = 'pages/' + sites[i][0] + \"/homePage.html\" \n",
    "    os.makedirs(os.path.dirname(directoryFile), exist_ok=True)\n",
    "    with open(directoryFile, 'wb') as handle:\n",
    "        for block in req.iter_content():\n",
    "            handle.write(block)"
   ]
  },
  {
   "cell_type": "code",
   "execution_count": 14,
   "metadata": {},
   "outputs": [
    {
     "data": {
      "text/plain": [
       "<a class=\"banner-network-logo\" href=\"https://www.mlssoccer.com/\"></a>"
      ]
     },
     "execution_count": 14,
     "metadata": {},
     "output_type": "execute_result"
    }
   ],
   "source": [
    "urlHomePage = sites[0][1]\n",
    "req = rq.get(urlHomePage)\n",
    "parsedPage = BeautifulSoup(r.text,\"html.parser\")\n",
    "anchors = parsedPage.find_all('a', href = True)\n",
    "anchors[0]"
   ]
  },
  {
   "cell_type": "code",
   "execution_count": 16,
   "metadata": {},
   "outputs": [
    {
     "data": {
      "text/plain": [
       "['#\\n',\n",
       " '# robots.txt\\n',\n",
       " '#\\n',\n",
       " '# This file is to prevent the crawling and indexing of certain parts\\n',\n",
       " '# of your site by web crawlers and spiders run by sites like Yahoo!\\n',\n",
       " '# and Google. By telling these \"robots\" where not to go on your site,\\n',\n",
       " '# you save bandwidth and server resources.\\n',\n",
       " '#\\n',\n",
       " '# This file will be ignored unless it is at the root of your host:\\n',\n",
       " '# Used:    http://example.com/robots.txt\\n',\n",
       " '# Ignored: http://example.com/site/robots.txt\\n',\n",
       " '#\\n',\n",
       " '# For more information about the robots.txt standard, see:\\n',\n",
       " '# http://www.robotstxt.org/robotstxt.html\\n',\n",
       " '\\n',\n",
       " 'User-agent: *\\n',\n",
       " 'Visit-time: 0700-1100 # only visit between 2am ET (7am UTC) and 6am ET (11am UTC)\\n',\n",
       " 'Crawl-delay: 10\\n',\n",
       " '# Directories\\n',\n",
       " 'Disallow: /includes/\\n',\n",
       " 'Disallow: /misc/\\n',\n",
       " 'Disallow: /modules/\\n',\n",
       " 'Disallow: /profiles/\\n',\n",
       " 'Disallow: /scripts/\\n',\n",
       " 'Disallow: /themes/\\n',\n",
       " '# Files\\n',\n",
       " 'Disallow: /CHANGELOG.txt\\n',\n",
       " 'Disallow: /cron.php\\n',\n",
       " 'Disallow: /INSTALL.mysql.txt\\n',\n",
       " 'Disallow: /INSTALL.pgsql.txt\\n',\n",
       " 'Disallow: /INSTALL.sqlite.txt\\n',\n",
       " 'Disallow: /install.php\\n',\n",
       " 'Disallow: /INSTALL.txt\\n',\n",
       " 'Disallow: /LICENSE.txt\\n',\n",
       " 'Disallow: /MAINTAINERS.txt\\n',\n",
       " 'Disallow: /update.php\\n',\n",
       " 'Disallow: /UPGRADE.txt\\n',\n",
       " 'Disallow: /xmlrpc.php\\n',\n",
       " '# Paths (clean URLs)\\n',\n",
       " 'Disallow: /admin/\\n',\n",
       " 'Disallow: /comment/reply/\\n',\n",
       " 'Disallow: /filter/tips/\\n',\n",
       " 'Disallow: /node/add/\\n',\n",
       " 'Disallow: /search/\\n',\n",
       " 'Disallow: /user/register/\\n',\n",
       " 'Disallow: /user/password/\\n',\n",
       " 'Disallow: /user/login/\\n',\n",
       " 'Disallow: /user/logout/\\n',\n",
       " 'Disallow: /stats/alltime\\n',\n",
       " '# Paths (no clean URLs)\\n',\n",
       " 'Disallow: /?q=admin/\\n',\n",
       " 'Disallow: /?q=comment/reply/\\n',\n",
       " 'Disallow: /?q=filter/tips/\\n',\n",
       " 'Disallow: /?q=node/add/\\n',\n",
       " 'Disallow: /?q=search/\\n',\n",
       " 'Disallow: /?q=user/password/\\n',\n",
       " 'Disallow: /?q=user/register/\\n',\n",
       " 'Disallow: /?q=user/login/\\n',\n",
       " 'Disallow: /?q=user/logout/\\n',\n",
       " 'Disallow: /account\\n',\n",
       " '\\n',\n",
       " '#Montreal FR\\n',\n",
       " 'Disallow: /fr/includes/\\n',\n",
       " 'Disallow: /fr/misc/\\n',\n",
       " 'Disallow: /fr/modules/\\n',\n",
       " 'Disallow: /fr/profiles/\\n',\n",
       " 'Disallow: /fr/scripts/\\n',\n",
       " 'Disallow: /fr/themes/\\n',\n",
       " '# Files\\n',\n",
       " 'Disallow: /fr/CHANGELOG.txt\\n',\n",
       " 'Disallow: /fr/cron.php\\n',\n",
       " 'Disallow: /fr/INSTALL.mysql.txt\\n',\n",
       " 'Disallow: /fr/INSTALL.pgsql.txt\\n',\n",
       " 'Disallow: /fr/INSTALL.sqlite.txt\\n',\n",
       " 'Disallow: /fr/install.php\\n',\n",
       " 'Disallow: /fr/INSTALL.txt\\n',\n",
       " 'Disallow: /fr/LICENSE.txt\\n',\n",
       " 'Disallow: /fr/MAINTAINERS.txt\\n',\n",
       " 'Disallow: /fr/update.php\\n',\n",
       " 'Disallow: /fr/UPGRADE.txt\\n',\n",
       " 'Disallow: /fr/xmlrpc.php\\n',\n",
       " '# Paths (clean URLs)\\n',\n",
       " 'Disallow: /fr/admin/\\n',\n",
       " 'Disallow: /fr/comment/reply/\\n',\n",
       " 'Disallow: /fr/filter/tips/\\n',\n",
       " 'Disallow: /fr/node/add/\\n',\n",
       " 'Disallow: /fr/search/\\n',\n",
       " 'Disallow: /fr/user/register/\\n',\n",
       " 'Disallow: /fr/user/password/\\n',\n",
       " 'Disallow: /fr/user/login/\\n',\n",
       " 'Disallow: /fr/user/logout/\\n',\n",
       " 'Disallow: /fr/stats/alltime\\n',\n",
       " '# Paths (no clean URLs)\\n',\n",
       " 'Disallow: /fr/?q=admin/\\n',\n",
       " 'Disallow: /fr/?q=comment/reply/\\n',\n",
       " 'Disallow: /fr/?q=filter/tips/\\n',\n",
       " 'Disallow: /fr/?q=node/add/\\n',\n",
       " 'Disallow: /fr/?q=search/\\n',\n",
       " 'Disallow: /fr/?q=user/password/\\n',\n",
       " 'Disallow: /fr/?q=user/register/\\n',\n",
       " 'Disallow: /fr/?q=user/login/\\n',\n",
       " 'Disallow: /fr/?q=user/logout/\\n',\n",
       " 'Disallow: /fr/account\\n',\n",
       " '\\n',\n",
       " '#Montreal EN\\n',\n",
       " 'Disallow: /en/includes/\\n',\n",
       " 'Disallow: /en/misc/\\n',\n",
       " 'Disallow: /en/modules/\\n',\n",
       " 'Disallow: /en/profiles/\\n',\n",
       " 'Disallow: /en/scripts/\\n',\n",
       " 'Disallow: /en/themes/\\n',\n",
       " '# Files\\n',\n",
       " 'Disallow: /en/CHANGELOG.txt\\n',\n",
       " 'Disallow: /en/cron.php\\n',\n",
       " 'Disallow: /en/INSTALL.mysql.txt\\n',\n",
       " 'Disallow: /en/INSTALL.pgsql.txt\\n',\n",
       " 'Disallow: /en/INSTALL.sqlite.txt\\n',\n",
       " 'Disallow: /en/install.php\\n',\n",
       " 'Disallow: /en/INSTALL.txt\\n',\n",
       " 'Disallow: /en/LICENSE.txt\\n',\n",
       " 'Disallow: /en/MAINTAINERS.txt\\n',\n",
       " 'Disallow: /en/update.php\\n',\n",
       " 'Disallow: /en/UPGRADE.txt\\n',\n",
       " 'Disallow: /en/xmlrpc.php\\n',\n",
       " '# Paths (clean URLs)\\n',\n",
       " 'Disallow: /en/admin/\\n',\n",
       " 'Disallow: /en/comment/reply/\\n',\n",
       " 'Disallow: /en/filter/tips/\\n',\n",
       " 'Disallow: /en/node/add/\\n',\n",
       " 'Disallow: /en/search/\\n',\n",
       " 'Disallow: /en/user/register/\\n',\n",
       " 'Disallow: /en/user/password/\\n',\n",
       " 'Disallow: /en/user/login/\\n',\n",
       " 'Disallow: /en/user/logout/\\n',\n",
       " 'Disallow: /en/stats/alltime\\n',\n",
       " '# Paths (no clean URLs)\\n',\n",
       " 'Disallow: /en/?q=admin/\\n',\n",
       " 'Disallow: /en/?q=comment/reply/\\n',\n",
       " 'Disallow: /en/?q=filter/tips/\\n',\n",
       " 'Disallow: /en/?q=node/add/\\n',\n",
       " 'Disallow: /en/?q=search/\\n',\n",
       " 'Disallow: /en/?q=user/password/\\n',\n",
       " 'Disallow: /en/?q=user/register/\\n',\n",
       " 'Disallow: /en/?q=user/login/\\n',\n",
       " 'Disallow: /en/?q=user/logout/\\n',\n",
       " 'Disallow: /en/account\\n']"
      ]
     },
     "execution_count": 16,
     "metadata": {},
     "output_type": "execute_result"
    }
   ],
   "source": [
    "destiny = 'robots/' + sites[0][0] + \".txt\"\n",
    "with open(destiny) as f:\n",
    "    content = f.readlines()\n",
    "content"
   ]
  },
  {
   "cell_type": "code",
   "execution_count": null,
   "metadata": {
    "collapsed": true
   },
   "outputs": [],
   "source": []
  }
 ],
 "metadata": {
  "kernelspec": {
   "display_name": "Python 3",
   "language": "python",
   "name": "python3"
  },
  "language_info": {
   "codemirror_mode": {
    "name": "ipython",
    "version": 3
   },
   "file_extension": ".py",
   "mimetype": "text/x-python",
   "name": "python",
   "nbconvert_exporter": "python",
   "pygments_lexer": "ipython3",
   "version": "3.6.8"
  }
 },
 "nbformat": 4,
 "nbformat_minor": 2
}
